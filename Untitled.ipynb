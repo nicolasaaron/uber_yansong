{
 "cells": [
  {
   "cell_type": "code",
   "execution_count": 31,
   "metadata": {
    "collapsed": false
   },
   "outputs": [],
   "source": [
    "import datetime as dt\n",
    "import numpy as np\n",
    "import pandas as pd\n",
    "import matplotlib.pyplot as plt\n",
    "import matplotlib as mpl\n",
    "# set figure size\n",
    "mpl.rcParams['figure.figsize'] = (15,10)\n"
   ]
  },
  {
   "cell_type": "code",
   "execution_count": null,
   "metadata": {
    "collapsed": true
   },
   "outputs": [],
   "source": [
    "'''\n",
    "load input data\n",
    "'''\n",
    "filename = 'data_set_170705.xlsx'\n",
    "xls_file = pd.read_excel(filename, sheetname =['driver_trips',\n",
    "                                               'rider_trips',\n",
    "                                               'driver_data',\n",
    "                                               'rider_data',\n",
    "                                               'city_metrics'])"
   ]
  },
  {
   "cell_type": "code",
   "execution_count": 8,
   "metadata": {
    "collapsed": true
   },
   "outputs": [],
   "source": [
    "'''\n",
    "Specify some data sets\n",
    "'''\n",
    "\n",
    "driver_trips =  xls_file['driver_trips']\n",
    "rider_trips = xls_file['rider_trips']\n",
    "driver_data = xls_file['driver_data']\n",
    "rider_data = xls_file['rider_data']\n",
    "city_metrics = xls_file['city_metrics']\n",
    "\n",
    "rider_trips['hour'] = rider_trips.request_time.dt.hour\n",
    "rider_trips['date'] = rider_trips.request_time.dt.date\n",
    "rider_trips['time_slog'] = pd.to_datetime(rider_trips.date) + rider_trips['hour'].apply(lambda x: pd.Timedelta(x, 'h'))\n"
   ]
  },
  {
   "cell_type": "code",
   "execution_count": 42,
   "metadata": {
    "collapsed": false
   },
   "outputs": [
    {
     "name": "stdout",
     "output_type": "stream",
     "text": [
      "(60000, 13)\n",
      "(54139, 13)\n",
      "(51929, 13)\n"
     ]
    }
   ],
   "source": [
    "'''\n",
    "filter input data\n",
    "'''\n",
    "\n",
    "rider_trips_filtered = rider_trips\n",
    "print(rider_trips_filtered.shape)\n",
    "\n",
    "# filter canceled trips\n",
    "rider_trips_filtered = rider_trips_filtered[rider_trips_filtered.trip_status=='completed']\n",
    "print(rider_trips_filtered.shape)\n",
    "\n",
    "#filter nan\n",
    "rider_trips_filtered = rider_trips_filtered.dropna(subset=['estimated_time_to_arrival','surge_multiplier'], how='any')\n",
    "print(rider_trips_filtered.shape)\n",
    "\n",
    "#common noise : surge price = 1\n",
    "trips_sp_non_active = rider_trips_filtered[ rider_trips_filtered.surge_multiplier ==1]\n",
    "trips_sp_active = rider_trips_filtered[rider_trips_filtered.surge_multiplier > 1]\n",
    "\n",
    "\n",
    "#filer <0 ETA\n",
    "#rider_trips_filtered = rider_trips_filtered[ rider_trips_filtered.estimated_time_to_arrival >=0]\n",
    "#print(rider_trips_filtered.shape)\n",
    "\n",
    "#rush hour\n",
    "FLAG_rush_hour = False\n",
    "\n",
    "if FLAG_rush_hour:\n",
    "    rush_hour_morning = ( (rider_trips_filtered.hour >=7) & (rider_trips_filtered.hour <=9) )\n",
    "    rush_hour_evening =  ((rider_trips_filtered.hour >=14) & (rider_trips_filtered.hour <=18))\n",
    "    rider_trips_filtered = rider_trips_filtered[ rush_hour_evening]\n",
    "    print(rider_trips_filtered.shape)\n",
    "\n"
   ]
  },
  {
   "cell_type": "code",
   "execution_count": 49,
   "metadata": {
    "collapsed": false
   },
   "outputs": [
    {
     "name": "stdout",
     "output_type": "stream",
     "text": [
      "All data, \t threshold ETA: \t\t\t 9.933333333\n",
      "All data, \t threshold surge multiplier\t\t 2.7\n",
      "Surge Multiplier >1,\t threshold ETA:\t\t\t 10.55\n",
      "Surge Multiplier >1,\t threshold surge multiplier:\t 3.3\n"
     ]
    },
    {
     "data": {
      "image/png": "[encoded data removed]",
      "text/plain": [
       "<matplotlib.figure.Figure at 0x188cceffc50>"
      ]
     },
     "metadata": {},
     "output_type": "display_data"
    }
   ],
   "source": [
    "'''\n",
    "select the outliner\n",
    "'''\n",
    "\n",
    "color_regions ={'Allen Abby':'r',\n",
    "                'Blair Bend':'g',\n",
    "                'Chelsea Court':'b',\n",
    "                'Daisy Drive':'orange'}\n",
    "\n",
    "threshold_ETA_perc = 0.005\n",
    "threshold_sp_perc = 0.005\n",
    "\n",
    "#all data\n",
    "nb_samples = rider_trips_filtered.shape[0] \n",
    "threshold_ETA = rider_trips_filtered.sort_values('estimated_time_to_arrival',ascending = False).reset_index()\\\n",
    "                .estimated_time_to_arrival[np.rint(nb_samples * threshold_ETA_perc)]\n",
    "threshold_sp = rider_trips_filtered.sort_values('surge_multiplier',ascending = False).reset_index()\\\n",
    "                .surge_multiplier[np.rint(nb_samples * threshold_sp_perc)]\n",
    "\n",
    "#surge price >1\n",
    "nb_samples = trips_sp_active.shape[0]\n",
    "threshold_ETA_active = trips_sp_active.sort_values('estimated_time_to_arrival',ascending = False).reset_index()\\\n",
    "                .estimated_time_to_arrival[np.rint(nb_samples * threshold_ETA_perc)]\n",
    "threshold_sp_active = trips_sp_active.sort_values('surge_multiplier',ascending = False).reset_index()\\\n",
    "                .surge_multiplier[np.rint(nb_samples * threshold_sp_perc)]\n",
    "\n",
    "    \n",
    "print('All data, \\t threshold ETA: \\t\\t\\t', threshold_ETA)\n",
    "print('All data, \\t threshold surge multiplier\\t\\t', threshold_sp)\n",
    "  \n",
    "print('Surge Multiplier >1,\\t threshold ETA:\\t\\t\\t', threshold_ETA_active)\n",
    "print('Surge Multiplier >1,\\t threshold surge multiplier:\\t', threshold_sp_active)\n",
    "\n",
    "\n",
    "#figure\n",
    "plt.figure()\n",
    "plt.scatter(x = rider_trips_filtered.estimated_time_to_arrival,\n",
    "            y = rider_trips_filtered.surge_multiplier,\n",
    "            s = 2, color = 'b', edgecolor = None, alpha = 1,label='ETA-Surge price')\n",
    "\n",
    "plt.axvline(x = threshold_ETA, color = 'r', alpha = 0.5, label = 'all data')\n",
    "plt.axvline(x = threshold_ETA_active, color='orange', alpha = 0.5 , label ='surge price >1')\n",
    "\n",
    "plt.axhline(y = threshold_sp, color = 'r' , alpha = 0.5, label = 'all data')\n",
    "plt.axhline(y = threshold_sp_active, color = 'orange', alpha = 0.5, label ='surge price >1')\n",
    "\n",
    "plt.ylabel('surge_multiplier')\n",
    "plt.xlabel('ETA')\n",
    "lines, labels = plt.gca().get_legend_handles_labels()\n",
    "plt.legend(lines,labels, loc='best')\n",
    "plt.show()\n"
   ]
  }
 ],
 "metadata": {
  "kernelspec": {
   "display_name": "Python 3",
   "language": "python",
   "name": "python3"
  },
  "language_info": {
   "codemirror_mode": {
    "name": "ipython",
    "version": 3
   },
   "file_extension": ".py",
   "mimetype": "text/x-python",
   "name": "python",
   "nbconvert_exporter": "python",
   "pygments_lexer": "ipython3",
   "version": "3.6.0"
  }
 },
 "nbformat": 4,
 "nbformat_minor": 2
}
